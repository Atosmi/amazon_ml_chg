{
 "cells": [
  {
   "cell_type": "code",
   "execution_count": 4,
   "metadata": {
    "execution": {
     "iopub.execute_input": "2023-04-20T23:30:08.996490Z",
     "iopub.status.busy": "2023-04-20T23:30:08.995738Z",
     "iopub.status.idle": "2023-04-20T23:30:09.083479Z",
     "shell.execute_reply": "2023-04-20T23:30:09.082582Z",
     "shell.execute_reply.started": "2023-04-20T23:30:08.996453Z"
    }
   },
   "outputs": [],
   "source": [
    "import re\n",
    "import numpy as np\n",
    "import pandas as pd\n",
    "import matplotlib.pyplot as plt\n",
    "\n",
    "from tqdm import tqdm\n",
    "from tqdm.notebook import tqdm_notebook\n"
   ]
  },
  {
   "cell_type": "code",
   "execution_count": 5,
   "metadata": {
    "execution": {
     "iopub.execute_input": "2023-04-20T23:30:09.086494Z",
     "iopub.status.busy": "2023-04-20T23:30:09.085812Z",
     "iopub.status.idle": "2023-04-20T23:30:10.837297Z",
     "shell.execute_reply": "2023-04-20T23:30:10.836037Z",
     "shell.execute_reply.started": "2023-04-20T23:30:09.086457Z"
    }
   },
   "outputs": [],
   "source": [
    "import nltk\n",
    "from nltk.corpus import stopwords"
   ]
  },
  {
   "cell_type": "code",
   "execution_count": 38,
   "metadata": {
    "execution": {
     "iopub.execute_input": "2023-04-20T23:30:10.846813Z",
     "iopub.status.busy": "2023-04-20T23:30:10.844506Z",
     "iopub.status.idle": "2023-04-20T23:30:49.928072Z",
     "shell.execute_reply": "2023-04-20T23:30:49.927032Z",
     "shell.execute_reply.started": "2023-04-20T23:30:10.846757Z"
    }
   },
   "outputs": [],
   "source": [
    "import pandas as pd\n",
    "df = pd.read_csv('D:/Coding/AmaoznML/new_file/dataset/train.csv')"
   ]
  },
  {
   "cell_type": "code",
   "execution_count": 39,
   "metadata": {
    "execution": {
     "iopub.execute_input": "2023-04-20T23:30:10.846813Z",
     "iopub.status.busy": "2023-04-20T23:30:10.844506Z",
     "iopub.status.idle": "2023-04-20T23:30:49.928072Z",
     "shell.execute_reply": "2023-04-20T23:30:49.927032Z",
     "shell.execute_reply.started": "2023-04-20T23:30:10.846757Z"
    }
   },
   "outputs": [
    {
     "name": "stderr",
     "output_type": "stream",
     "text": [
      "C:\\Users\\User\\AppData\\Local\\Temp\\ipykernel_10752\\4165494798.py:2: FutureWarning: Passing a negative integer is deprecated in version 1.0 and will not be supported in future version. Instead, use None to not limit the column width.\n",
      "  pd.set_option('display.max_colwidth', -1)\n"
     ]
    }
   ],
   "source": [
    "pd.options.display.max_rows\n",
    "pd.set_option('display.max_colwidth', -1)\n"
   ]
  },
  {
   "cell_type": "code",
   "execution_count": 42,
   "metadata": {},
   "outputs": [
    {
     "data": {
      "text/html": [
       "<div>\n",
       "<style scoped>\n",
       "    .dataframe tbody tr th:only-of-type {\n",
       "        vertical-align: middle;\n",
       "    }\n",
       "\n",
       "    .dataframe tbody tr th {\n",
       "        vertical-align: top;\n",
       "    }\n",
       "\n",
       "    .dataframe thead th {\n",
       "        text-align: right;\n",
       "    }\n",
       "</style>\n",
       "<table border=\"1\" class=\"dataframe\">\n",
       "  <thead>\n",
       "    <tr style=\"text-align: right;\">\n",
       "      <th></th>\n",
       "      <th>PRODUCT_ID</th>\n",
       "      <th>TITLE</th>\n",
       "      <th>BULLET_POINTS</th>\n",
       "      <th>DESCRIPTION</th>\n",
       "      <th>PRODUCT_TYPE_ID</th>\n",
       "      <th>PRODUCT_LENGTH</th>\n",
       "    </tr>\n",
       "  </thead>\n",
       "  <tbody>\n",
       "    <tr>\n",
       "      <th>0</th>\n",
       "      <td>1925202</td>\n",
       "      <td>ArtzFolio Tulip Flowers Blackout Curtain for Door, Window &amp; Room | Eyelets &amp; Tie Back | Canvas Fabric | Width 4.5feet (54inch) Height 5 feet (60 inch); Set of 2 PCS</td>\n",
       "      <td>[LUXURIOUS &amp; APPEALING: Beautiful custom-made curtains to decorate any home or office | Includes inbuilt tieback to hold the curtain | Completely finished and ready to hang on walls &amp; windows,MATERIAL: Luxurious &amp; versatile fabric with a natural finish | High colour fastness | State-of-the-art digital printing ensures colour consistency and prevents any fading | Eyelets; Cotton Canvas; Width 4.5feet (54inch) | Multicolour | PACKAGE: 2 Room Curtains Eyelets | SIZE: Height 5 feet (60 inch); SET OF 2 PCS,BLACKOUT CURTAIN: 100% opaque &amp; heavy premium cotton canvas fabric | Tight knitted, long life &amp; durable fabric | Printing only on front side with a plain colour back side,MADE TO PERFECTION: Large eyelets at the top to put hanging hooks | Perfectly tailored seams for durability | Refined stitching with a matching thread color,QUALITY ASSURED: Gentle wash with similar colors in cold water | Avoid direct sunlight to prevent fading | Dispatched after MULTIPLE QUALITY CHECKS]</td>\n",
       "      <td>NaN</td>\n",
       "      <td>1650</td>\n",
       "      <td>2125.980000</td>\n",
       "    </tr>\n",
       "    <tr>\n",
       "      <th>1</th>\n",
       "      <td>2673191</td>\n",
       "      <td>Marks &amp; Spencer Girls' Pyjama Sets T86_2561C_Navy Mix_9-10Y</td>\n",
       "      <td>[Harry Potter Hedwig Pyjamas (6-16 Yrs),100% cotton (exclusive of trimmings),Ribbing - 98% cotton, 2% elastane]</td>\n",
       "      <td>NaN</td>\n",
       "      <td>2755</td>\n",
       "      <td>393.700000</td>\n",
       "    </tr>\n",
       "    <tr>\n",
       "      <th>2</th>\n",
       "      <td>2765088</td>\n",
       "      <td>PRIKNIK Horn Red Electric Air Horn Compressor Interior Dual Tone Trumpet Loud Compatible with SX4</td>\n",
       "      <td>[Loud Dual Tone Trumpet Horn, Compatible With SX4,Electric Air Horn with Compressor, Compatible With SX4,High Quality, High Intensity Horn Sound, Compatible With SX4,Color: Red, Compatible With SX4,Professional installation required, Compatible With SX4]</td>\n",
       "      <td>Specifications: Color: Red, Material: Aluminium, Voltage: 12V, dB: 130 dB (around), Material: Aluminum Pump Head + Steel Pump Body + ABS Shell and Parts DB output: 130db Voltage: 12v Sound Type: Dual Tone Application: 12V Voltage Vehicles With Battery Above 20A Package included: 1 x Dual Tone Air Horn Compatible With SX4</td>\n",
       "      <td>7537</td>\n",
       "      <td>748.031495</td>\n",
       "    </tr>\n",
       "    <tr>\n",
       "      <th>3</th>\n",
       "      <td>1594019</td>\n",
       "      <td>ALISHAH Women's Cotton Ankle Length Leggings Combo of 2, Plus 12 Colors_L</td>\n",
       "      <td>[Made By 95%cotton and 5% Lycra which gives you 4 ways stretchable comfort, GSM 180 to 190,Come with Elasticized Waist Band, Slim Fit,Bubble free fabric and High quality steaching, Bio Wash,Skin-friendly fabric,ANKLE LENGTH LEGGINGS PACK OF 2]</td>\n",
       "      <td>AISHAH Women's Lycra Cotton Ankel Leggings. Brand: ALISHAH Length: Ankel Length Leggings. Size Chart Medium: 28 - 30 inch Large: 30 - 32 inch X-Large: 32 - 34 inch 2X-Large: 34 - 38 inch The color fade will not be there in washing. This cotton stretch leggings is designed to provide absolute comfort and body fit. Pair it with short or long kurta for modern look. High on style, fit and finish, this leggings is sure to lend you a sophisticated look. Please wash the dark colors separately in order to improve the product life. Disclaimer: Product color may slightly vary due to photographic lighting sources or your monitor settings. Please order according to your waist size mentioned in size chart</td>\n",
       "      <td>2996</td>\n",
       "      <td>787.401574</td>\n",
       "    </tr>\n",
       "    <tr>\n",
       "      <th>4</th>\n",
       "      <td>283658</td>\n",
       "      <td>The United Empire Loyalists: A Chronicle of the Great Migration</td>\n",
       "      <td>NaN</td>\n",
       "      <td>NaN</td>\n",
       "      <td>6112</td>\n",
       "      <td>598.424000</td>\n",
       "    </tr>\n",
       "  </tbody>\n",
       "</table>\n",
       "</div>"
      ],
      "text/plain": [
       "   PRODUCT_ID                                                                                                                                                                 TITLE                                                                                                                                                                                                                                                                                                                                                                                                                                                                                                                                                                                                                                                                                                                                                                                                                                                                                                                                                                                                            BULLET_POINTS                                                                                                                                                                                                                                                                                                                                                                                                                                                                                                                                                                                                                                                                                                                    DESCRIPTION  PRODUCT_TYPE_ID  PRODUCT_LENGTH\n",
       "0  1925202     ArtzFolio Tulip Flowers Blackout Curtain for Door, Window & Room | Eyelets & Tie Back | Canvas Fabric | Width 4.5feet (54inch) Height 5 feet (60 inch); Set of 2 PCS  [LUXURIOUS & APPEALING: Beautiful custom-made curtains to decorate any home or office | Includes inbuilt tieback to hold the curtain | Completely finished and ready to hang on walls & windows,MATERIAL: Luxurious & versatile fabric with a natural finish | High colour fastness | State-of-the-art digital printing ensures colour consistency and prevents any fading | Eyelets; Cotton Canvas; Width 4.5feet (54inch) | Multicolour | PACKAGE: 2 Room Curtains Eyelets | SIZE: Height 5 feet (60 inch); SET OF 2 PCS,BLACKOUT CURTAIN: 100% opaque & heavy premium cotton canvas fabric | Tight knitted, long life & durable fabric | Printing only on front side with a plain colour back side,MADE TO PERFECTION: Large eyelets at the top to put hanging hooks | Perfectly tailored seams for durability | Refined stitching with a matching thread color,QUALITY ASSURED: Gentle wash with similar colors in cold water | Avoid direct sunlight to prevent fading | Dispatched after MULTIPLE QUALITY CHECKS]  NaN                                                                                                                                                                                                                                                                                                                                                                                                                                                                                                                                                                                                                                                                                                                            1650             2125.980000   \n",
       "1  2673191     Marks & Spencer Girls' Pyjama Sets T86_2561C_Navy Mix_9-10Y                                                                                                           [Harry Potter Hedwig Pyjamas (6-16 Yrs),100% cotton (exclusive of trimmings),Ribbing - 98% cotton, 2% elastane]                                                                                                                                                                                                                                                                                                                                                                                                                                                                                                                                                                                                                                                                                                                                                                                                                                                                                                          NaN                                                                                                                                                                                                                                                                                                                                                                                                                                                                                                                                                                                                                                                                                                                            2755             393.700000    \n",
       "2  2765088     PRIKNIK Horn Red Electric Air Horn Compressor Interior Dual Tone Trumpet Loud Compatible with SX4                                                                     [Loud Dual Tone Trumpet Horn, Compatible With SX4,Electric Air Horn with Compressor, Compatible With SX4,High Quality, High Intensity Horn Sound, Compatible With SX4,Color: Red, Compatible With SX4,Professional installation required, Compatible With SX4]                                                                                                                                                                                                                                                                                                                                                                                                                                                                                                                                                                                                                                                                                                                                                           Specifications: Color: Red, Material: Aluminium, Voltage: 12V, dB: 130 dB (around), Material: Aluminum Pump Head + Steel Pump Body + ABS Shell and Parts DB output: 130db Voltage: 12v Sound Type: Dual Tone Application: 12V Voltage Vehicles With Battery Above 20A Package included: 1 x Dual Tone Air Horn Compatible With SX4                                                                                                                                                                                                                                                                                                                                                                                             7537             748.031495    \n",
       "3  1594019     ALISHAH Women's Cotton Ankle Length Leggings Combo of 2, Plus 12 Colors_L                                                                                             [Made By 95%cotton and 5% Lycra which gives you 4 ways stretchable comfort, GSM 180 to 190,Come with Elasticized Waist Band, Slim Fit,Bubble free fabric and High quality steaching, Bio Wash,Skin-friendly fabric,ANKLE LENGTH LEGGINGS PACK OF 2]                                                                                                                                                                                                                                                                                                                                                                                                                                                                                                                                                                                                                                                                                                                                                                      AISHAH Women's Lycra Cotton Ankel Leggings. Brand: ALISHAH Length: Ankel Length Leggings. Size Chart Medium: 28 - 30 inch Large: 30 - 32 inch X-Large: 32 - 34 inch 2X-Large: 34 - 38 inch The color fade will not be there in washing. This cotton stretch leggings is designed to provide absolute comfort and body fit. Pair it with short or long kurta for modern look. High on style, fit and finish, this leggings is sure to lend you a sophisticated look. Please wash the dark colors separately in order to improve the product life. Disclaimer: Product color may slightly vary due to photographic lighting sources or your monitor settings. Please order according to your waist size mentioned in size chart  2996             787.401574    \n",
       "4  283658      The United Empire Loyalists: A Chronicle of the Great Migration                                                                                                       NaN                                                                                                                                                                                                                                                                                                                                                                                                                                                                                                                                                                                                                                                                                                                                                                                                                                                                                                                                                                                                                      NaN                                                                                                                                                                                                                                                                                                                                                                                                                                                                                                                                                                                                                                                                                                                            6112             598.424000    "
      ]
     },
     "execution_count": 42,
     "metadata": {},
     "output_type": "execute_result"
    }
   ],
   "source": [
    "df.head()"
   ]
  },
  {
   "cell_type": "code",
   "execution_count": 45,
   "metadata": {},
   "outputs": [],
   "source": [
    "before_preproc = df.iloc[0][1:3]"
   ]
  },
  {
   "cell_type": "code",
   "execution_count": 46,
   "metadata": {},
   "outputs": [
    {
     "data": {
      "text/plain": [
       "TITLE            ArtzFolio Tulip Flowers Blackout Curtain for Door, Window & Room | Eyelets & Tie Back | Canvas Fabric | Width 4.5feet (54inch) Height 5 feet (60 inch); Set of 2 PCS                                                                                                                                                                                                                                                                                                                                                                                                                                                                                                                                                                                                                                                                                                                                                                                                                                                   \n",
       "BULLET_POINTS    [LUXURIOUS & APPEALING: Beautiful custom-made curtains to decorate any home or office | Includes inbuilt tieback to hold the curtain | Completely finished and ready to hang on walls & windows,MATERIAL: Luxurious & versatile fabric with a natural finish | High colour fastness | State-of-the-art digital printing ensures colour consistency and prevents any fading | Eyelets; Cotton Canvas; Width 4.5feet (54inch) | Multicolour | PACKAGE: 2 Room Curtains Eyelets | SIZE: Height 5 feet (60 inch); SET OF 2 PCS,BLACKOUT CURTAIN: 100% opaque & heavy premium cotton canvas fabric | Tight knitted, long life & durable fabric | Printing only on front side with a plain colour back side,MADE TO PERFECTION: Large eyelets at the top to put hanging hooks | Perfectly tailored seams for durability | Refined stitching with a matching thread color,QUALITY ASSURED: Gentle wash with similar colors in cold water | Avoid direct sunlight to prevent fading | Dispatched after MULTIPLE QUALITY CHECKS]\n",
       "Name: 0, dtype: object"
      ]
     },
     "execution_count": 46,
     "metadata": {},
     "output_type": "execute_result"
    }
   ],
   "source": [
    "before_preproc"
   ]
  },
  {
   "cell_type": "code",
   "execution_count": 47,
   "metadata": {
    "execution": {
     "iopub.execute_input": "2023-04-20T23:30:49.929998Z",
     "iopub.status.busy": "2023-04-20T23:30:49.929609Z",
     "iopub.status.idle": "2023-04-20T23:30:58.914633Z",
     "shell.execute_reply": "2023-04-20T23:30:58.913558Z",
     "shell.execute_reply.started": "2023-04-20T23:30:49.929947Z"
    }
   },
   "outputs": [],
   "source": [
    "df =df.fillna(' ')\n",
    "df.drop_duplicates(keep = 'first', inplace = True)"
   ]
  },
  {
   "cell_type": "code",
   "execution_count": 48,
   "metadata": {
    "execution": {
     "iopub.execute_input": "2023-04-20T23:30:58.916940Z",
     "iopub.status.busy": "2023-04-20T23:30:58.916524Z",
     "iopub.status.idle": "2023-04-20T23:31:01.895855Z",
     "shell.execute_reply": "2023-04-20T23:31:01.894772Z",
     "shell.execute_reply.started": "2023-04-20T23:30:58.916898Z"
    }
   },
   "outputs": [],
   "source": [
    "def clean_yo(x):\n",
    "    if isinstance(x, str):\n",
    "        return x.strip('[]').replace(' | ', ' ')\n",
    "    elif isinstance(x, float):\n",
    "        return str(x)\n",
    "    else:\n",
    "        return x"
   ]
  },
  {
   "cell_type": "code",
   "execution_count": 49,
   "metadata": {
    "execution": {
     "iopub.execute_input": "2023-04-20T23:30:58.916940Z",
     "iopub.status.busy": "2023-04-20T23:30:58.916524Z",
     "iopub.status.idle": "2023-04-20T23:31:01.895855Z",
     "shell.execute_reply": "2023-04-20T23:31:01.894772Z",
     "shell.execute_reply.started": "2023-04-20T23:30:58.916898Z"
    }
   },
   "outputs": [],
   "source": [
    "df['BULLET_POINTS'] = df['BULLET_POINTS'].apply(clean_yo)"
   ]
  },
  {
   "cell_type": "code",
   "execution_count": 50,
   "metadata": {
    "execution": {
     "iopub.execute_input": "2023-04-20T23:31:01.905424Z",
     "iopub.status.busy": "2023-04-20T23:31:01.905116Z",
     "iopub.status.idle": "2023-04-20T23:31:06.760902Z",
     "shell.execute_reply": "2023-04-20T23:31:06.759829Z",
     "shell.execute_reply.started": "2023-04-20T23:31:01.905394Z"
    }
   },
   "outputs": [],
   "source": [
    "df['TEXT']  = df['TITLE'] + ' ' + df['BULLET_POINTS'] + ' ' + df['DESCRIPTION']\n",
    "df = df.drop(['TITLE', 'DESCRIPTION', 'BULLET_POINTS'], axis=1)"
   ]
  },
  {
   "cell_type": "code",
   "execution_count": 51,
   "metadata": {
    "execution": {
     "iopub.execute_input": "2023-04-20T23:31:06.764259Z",
     "iopub.status.busy": "2023-04-20T23:31:06.763211Z",
     "iopub.status.idle": "2023-04-20T23:31:08.146275Z",
     "shell.execute_reply": "2023-04-20T23:31:08.144966Z",
     "shell.execute_reply.started": "2023-04-20T23:31:06.764217Z"
    }
   },
   "outputs": [
    {
     "name": "stderr",
     "output_type": "stream",
     "text": [
      "'unzip' is not recognized as an internal or external command,\n",
      "operable program or batch file.\n"
     ]
    }
   ],
   "source": [
    "!unzip /usr/share/nltk_data/corpora/wordnet.zip -d /usr/share/nltk_data/corpora/"
   ]
  },
  {
   "cell_type": "code",
   "execution_count": 52,
   "metadata": {
    "execution": {
     "iopub.execute_input": "2023-04-20T23:31:08.153777Z",
     "iopub.status.busy": "2023-04-20T23:31:08.151093Z",
     "iopub.status.idle": "2023-04-20T23:31:08.258947Z",
     "shell.execute_reply": "2023-04-20T23:31:08.257864Z",
     "shell.execute_reply.started": "2023-04-20T23:31:08.153733Z"
    }
   },
   "outputs": [
    {
     "name": "stderr",
     "output_type": "stream",
     "text": [
      "[nltk_data] Downloading package stopwords to\n",
      "[nltk_data]     C:\\Users\\User\\AppData\\Roaming\\nltk_data...\n",
      "[nltk_data]   Package stopwords is already up-to-date!\n"
     ]
    }
   ],
   "source": [
    "nltk.download('stopwords')\n",
    "stop_words = set(stopwords.words('english'))\n",
    "     "
   ]
  },
  {
   "cell_type": "code",
   "execution_count": 53,
   "metadata": {
    "execution": {
     "iopub.execute_input": "2023-04-20T23:31:08.263944Z",
     "iopub.status.busy": "2023-04-20T23:31:08.263643Z",
     "iopub.status.idle": "2023-04-20T23:31:08.268451Z",
     "shell.execute_reply": "2023-04-20T23:31:08.267315Z",
     "shell.execute_reply.started": "2023-04-20T23:31:08.263916Z"
    }
   },
   "outputs": [],
   "source": [
    "from nltk.stem import WordNetLemmatizer\n",
    "  \n",
    "lemmatizer = WordNetLemmatizer()"
   ]
  },
  {
   "cell_type": "code",
   "execution_count": 56,
   "metadata": {},
   "outputs": [
    {
     "name": "stderr",
     "output_type": "stream",
     "text": [
      "[nltk_data] Downloading package punkt to\n",
      "[nltk_data]     C:\\Users\\User\\AppData\\Roaming\\nltk_data...\n",
      "[nltk_data]   Unzipping tokenizers\\punkt.zip.\n",
      "[nltk_data] Downloading package wordnet to\n",
      "[nltk_data]     C:\\Users\\User\\AppData\\Roaming\\nltk_data...\n"
     ]
    },
    {
     "data": {
      "text/plain": [
       "['hi', 'I', 'am']"
      ]
     },
     "execution_count": 56,
     "metadata": {},
     "output_type": "execute_result"
    }
   ],
   "source": [
    "from nltk import word_tokenize\n",
    "nltk.download('punkt')\n",
    "nltk.download('wordnet')\n",
    "word_tokenize('hi I am')"
   ]
  },
  {
   "cell_type": "code",
   "execution_count": 57,
   "metadata": {
    "execution": {
     "iopub.execute_input": "2023-04-20T23:31:08.411836Z",
     "iopub.status.busy": "2023-04-20T23:31:08.411191Z",
     "iopub.status.idle": "2023-04-20T23:31:08.419841Z",
     "shell.execute_reply": "2023-04-20T23:31:08.418745Z",
     "shell.execute_reply.started": "2023-04-20T23:31:08.411782Z"
    }
   },
   "outputs": [],
   "source": [
    "def clean(text):\n",
    "\n",
    "  cleanr = re.compile('<[^>]*>')           # remove html\n",
    "  cleantext = re.sub(cleanr, ' ', text)\n",
    "\n",
    "  cleantext = re.sub(\"[-]\", \" \" , cleantext)   # remove - sign\n",
    "\n",
    "  cleantext = re.sub(\"[^A-Za-z ]\", \" \" , cleantext)  # remove evey character except alphabet\n",
    "  cleantext = cleantext.lower()\n",
    "\n",
    "  words = nltk.tokenize.word_tokenize(cleantext)\n",
    "  words_new = [i for i in words if i not in stop_words]\n",
    "\n",
    "  w = [lemmatizer.lemmatize(word) for word in words_new if len(word)>2]\n",
    "\n",
    "  return ' '.join(w)"
   ]
  },
  {
   "cell_type": "code",
   "execution_count": 58,
   "metadata": {
    "execution": {
     "iopub.execute_input": "2023-04-20T23:31:10.104581Z",
     "iopub.status.busy": "2023-04-20T23:31:10.104180Z"
    }
   },
   "outputs": [],
   "source": [
    "df['TEXT'] = df['TEXT'].apply(clean)"
   ]
  },
  {
   "cell_type": "code",
   "execution_count": 59,
   "metadata": {},
   "outputs": [],
   "source": [
    "after_prepoc = df['TEXT'][0]"
   ]
  },
  {
   "cell_type": "code",
   "execution_count": 62,
   "metadata": {},
   "outputs": [
    {
     "name": "stdout",
     "output_type": "stream",
     "text": [
      "TITLE            Sample Text before cleaning:ArtzFolio Tulip Flowers Blackout Curtain for Door, Window & Room | Eyelets & Tie Back | Canvas Fabric | Width 4.5feet (54inch) Height 5 feet (60 inch); Set of 2 PCS                                                                                                                                                                                                                                                                                                                                                                                                                                                                                                                                                                                                                                                                                                                                                                                                                                                   \n",
      "BULLET_POINTS    Sample Text before cleaning:[LUXURIOUS & APPEALING: Beautiful custom-made curtains to decorate any home or office | Includes inbuilt tieback to hold the curtain | Completely finished and ready to hang on walls & windows,MATERIAL: Luxurious & versatile fabric with a natural finish | High colour fastness | State-of-the-art digital printing ensures colour consistency and prevents any fading | Eyelets; Cotton Canvas; Width 4.5feet (54inch) | Multicolour | PACKAGE: 2 Room Curtains Eyelets | SIZE: Height 5 feet (60 inch); SET OF 2 PCS,BLACKOUT CURTAIN: 100% opaque & heavy premium cotton canvas fabric | Tight knitted, long life & durable fabric | Printing only on front side with a plain colour back side,MADE TO PERFECTION: Large eyelets at the top to put hanging hooks | Perfectly tailored seams for durability | Refined stitching with a matching thread color,QUALITY ASSURED: Gentle wash with similar colors in cold water | Avoid direct sunlight to prevent fading | Dispatched after MULTIPLE QUALITY CHECKS]\n",
      "Name: 0, dtype: object\n"
     ]
    }
   ],
   "source": [
    "print(\"Sample Text before cleaning:\"+before_preproc)"
   ]
  },
  {
   "cell_type": "code",
   "execution_count": 63,
   "metadata": {},
   "outputs": [
    {
     "name": "stdout",
     "output_type": "stream",
     "text": [
      "Sample Text after cleaning: artzfolio tulip flower blackout curtain door window room eyelet tie back canvas fabric width foot inch height foot inch set pc luxurious appealing beautiful custom made curtain decorate home office includes inbuilt tieback hold curtain completely finished ready hang wall window material luxurious versatile fabric natural finish high colour fastness state art digital printing ensures colour consistency prevents fading eyelet cotton canvas width foot inch multicolour package room curtain eyelet size height foot inch set pc blackout curtain opaque heavy premium cotton canvas fabric tight knitted long life durable fabric printing front side plain colour back side made perfection large eyelet top put hanging hook perfectly tailored seam durability refined stitching matching thread color quality assured gentle wash similar color cold water avoid direct sunlight prevent fading dispatched multiple quality check\n"
     ]
    }
   ],
   "source": [
    "print(\"Sample Text after cleaning: \"+after_prepoc)"
   ]
  },
  {
   "cell_type": "code",
   "execution_count": null,
   "metadata": {},
   "outputs": [],
   "source": [
    "size = len(df)\n",
    "df1 = df[:size//5]\n",
    "df2 = df[size//5:2*(size//5)]\n",
    "df3 = df[2*(size//5):3*(size//5)]\n",
    "df4 = df[3*(size//5):4*(size//5)]\n",
    "df5 = df[4*(size//5):]\n",
    "\n",
    "df1.to_csv('csv1.csv', index=False)\n",
    "df2.to_csv('csv2.csv', index=False)\n",
    "df3.to_csv('csv3.csv', index=False)\n",
    "df4.to_csv('csv4.csv', index=False)\n",
    "df5.to_csv('csv5.csv', index=False)\n",
    "\n",
    "from IPython.display import FileLink"
   ]
  },
  {
   "cell_type": "code",
   "execution_count": null,
   "metadata": {},
   "outputs": [],
   "source": [
    "FileLink(r'csv1.csv')"
   ]
  },
  {
   "cell_type": "code",
   "execution_count": null,
   "metadata": {},
   "outputs": [],
   "source": [
    "FileLink(r'csv2.csv')"
   ]
  },
  {
   "cell_type": "code",
   "execution_count": null,
   "metadata": {},
   "outputs": [],
   "source": [
    "FileLink(r'csv3.csv')"
   ]
  },
  {
   "cell_type": "code",
   "execution_count": null,
   "metadata": {},
   "outputs": [],
   "source": [
    "FileLink(r'csv4.csv')"
   ]
  },
  {
   "cell_type": "code",
   "execution_count": null,
   "metadata": {},
   "outputs": [],
   "source": [
    "FileLink(r'csv5.csv')"
   ]
  }
 ],
 "metadata": {
  "kernelspec": {
   "display_name": "Python 3 (ipykernel)",
   "language": "python",
   "name": "python3"
  },
  "language_info": {
   "codemirror_mode": {
    "name": "ipython",
    "version": 3
   },
   "file_extension": ".py",
   "mimetype": "text/x-python",
   "name": "python",
   "nbconvert_exporter": "python",
   "pygments_lexer": "ipython3",
   "version": "3.9.12"
  }
 },
 "nbformat": 4,
 "nbformat_minor": 4
}
