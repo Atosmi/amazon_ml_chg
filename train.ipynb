{
 "cells": [
  {
   "cell_type": "markdown",
   "id": "1f4509ee",
   "metadata": {},
   "source": [
    "Now that we've cleaned the data, it is time to apply ML model."
   ]
  },
  {
   "cell_type": "markdown",
   "id": "b4132dd6",
   "metadata": {},
   "source": [
    "The idea was to create a Regressor model for every `PRODUCT_ID` separately, such that `PRODUCT_LENGTH` could be correlated to the score we generated from the text, through the `PRODUCT_ID` assigned. It was noted that although many items with similar `PRODUCT_ID`s belonged to same size/category (eg. 4 mostly contained books), it wasn't neccessarily a pattern. But, considering the time constraint, we went ahead with it anyway."
   ]
  },
  {
   "cell_type": "markdown",
   "id": "b3d28502",
   "metadata": {},
   "source": [
    " In the immediate code, we faced some more NaN values, so we cleaned for the last time.\n",
    "After that, we chose to go with a particular class, to apply the ML model."
   ]
  },
  {
   "cell_type": "code",
   "execution_count": 1,
   "id": "0206826a",
   "metadata": {},
   "outputs": [
    {
     "data": {
      "text/html": [
       "<div>\n",
       "<style scoped>\n",
       "    .dataframe tbody tr th:only-of-type {\n",
       "        vertical-align: middle;\n",
       "    }\n",
       "\n",
       "    .dataframe tbody tr th {\n",
       "        vertical-align: top;\n",
       "    }\n",
       "\n",
       "    .dataframe thead th {\n",
       "        text-align: right;\n",
       "    }\n",
       "</style>\n",
       "<table border=\"1\" class=\"dataframe\">\n",
       "  <thead>\n",
       "    <tr style=\"text-align: right;\">\n",
       "      <th></th>\n",
       "      <th>PRODUCT_ID</th>\n",
       "      <th>PRODUCT_TYPE_ID</th>\n",
       "      <th>PRODUCT_LENGTH</th>\n",
       "      <th>TEXT</th>\n",
       "    </tr>\n",
       "  </thead>\n",
       "  <tbody>\n",
       "    <tr>\n",
       "      <th>11</th>\n",
       "      <td>833712</td>\n",
       "      <td>1</td>\n",
       "      <td>433.070</td>\n",
       "      <td>La Mure / Valbonnais gps</td>\n",
       "    </tr>\n",
       "    <tr>\n",
       "      <th>12</th>\n",
       "      <td>648364</td>\n",
       "      <td>1</td>\n",
       "      <td>759.841</td>\n",
       "      <td>J'ecris des lettres! premiers exercices d'écri...</td>\n",
       "    </tr>\n",
       "    <tr>\n",
       "      <th>22</th>\n",
       "      <td>655356</td>\n",
       "      <td>1</td>\n",
       "      <td>539.369</td>\n",
       "      <td>100 clés des villes sœurs. Eu - Le Tréport - M...</td>\n",
       "    </tr>\n",
       "    <tr>\n",
       "      <th>45</th>\n",
       "      <td>699328</td>\n",
       "      <td>1</td>\n",
       "      <td>909.447</td>\n",
       "      <td>Duden Kindergarten Lexikon</td>\n",
       "    </tr>\n",
       "    <tr>\n",
       "      <th>51</th>\n",
       "      <td>370796</td>\n",
       "      <td>1</td>\n",
       "      <td>1325.000</td>\n",
       "      <td>Four Seasons 2020 Calendar</td>\n",
       "    </tr>\n",
       "  </tbody>\n",
       "</table>\n",
       "</div>"
      ],
      "text/plain": [
       "    PRODUCT_ID  PRODUCT_TYPE_ID  PRODUCT_LENGTH  \\\n",
       "11      833712                1         433.070   \n",
       "12      648364                1         759.841   \n",
       "22      655356                1         539.369   \n",
       "45      699328                1         909.447   \n",
       "51      370796                1        1325.000   \n",
       "\n",
       "                                                 TEXT  \n",
       "11                       La Mure / Valbonnais gps      \n",
       "12  J'ecris des lettres! premiers exercices d'écri...  \n",
       "22  100 clés des villes sœurs. Eu - Le Tréport - M...  \n",
       "45                     Duden Kindergarten Lexikon      \n",
       "51                     Four Seasons 2020 Calendar      "
      ]
     },
     "execution_count": 1,
     "metadata": {},
     "output_type": "execute_result"
    }
   ],
   "source": [
    "import pandas as pd\n",
    "import numpy as np\n",
    "clean1 = \"/home/user0531/Downloads/ALL_CSVs/csv1.csv\"\n",
    "df = pd.read_csv(clean1)\n",
    "new_df = df [df['PRODUCT_TYPE_ID'] == 1]\n",
    "new_df = new_df.dropna()\n",
    "\n",
    "\n",
    "new_df.head()"
   ]
  },
  {
   "cell_type": "code",
   "execution_count": 14,
   "id": "f0b4b01b",
   "metadata": {},
   "outputs": [
    {
     "data": {
      "text/plain": [
       "(23962, 4)"
      ]
     },
     "execution_count": 14,
     "metadata": {},
     "output_type": "execute_result"
    }
   ],
   "source": [
    "new_df.shape"
   ]
  },
  {
   "cell_type": "markdown",
   "id": "8ad46f83",
   "metadata": {},
   "source": [
    "Here, we splitted the dataset even before applying the `BERT` Model, which was only used to assign a relative score and not training. In our experience, when we scored the entire dataset and then trained the model, the error score was about ~0.16%. Believing that must be because of early usage with `BERT` model, and fearing that we might be testing on trained data, we splitted the dataset into 80:20 ratio early on."
   ]
  },
  {
   "cell_type": "code",
   "execution_count": 2,
   "id": "0c31cb17",
   "metadata": {},
   "outputs": [
    {
     "data": {
      "text/plain": [
       "19169"
      ]
     },
     "execution_count": 2,
     "metadata": {},
     "output_type": "execute_result"
    }
   ],
   "source": [
    "r,c = new_df.shape\n",
    "n = int(0.8*r)\n",
    "n\n"
   ]
  },
  {
   "cell_type": "code",
   "execution_count": 4,
   "id": "8864073e",
   "metadata": {},
   "outputs": [],
   "source": [
    "train_a = new_df.iloc[:n][:]\n",
    "test_a = new_df.iloc[n+1:][:]"
   ]
  },
  {
   "cell_type": "code",
   "execution_count": 13,
   "id": "c8be5413",
   "metadata": {},
   "outputs": [
    {
     "data": {
      "text/html": [
       "<div>\n",
       "<style scoped>\n",
       "    .dataframe tbody tr th:only-of-type {\n",
       "        vertical-align: middle;\n",
       "    }\n",
       "\n",
       "    .dataframe tbody tr th {\n",
       "        vertical-align: top;\n",
       "    }\n",
       "\n",
       "    .dataframe thead th {\n",
       "        text-align: right;\n",
       "    }\n",
       "</style>\n",
       "<table border=\"1\" class=\"dataframe\">\n",
       "  <thead>\n",
       "    <tr style=\"text-align: right;\">\n",
       "      <th></th>\n",
       "      <th>PRODUCT_ID</th>\n",
       "      <th>PRODUCT_TYPE_ID</th>\n",
       "      <th>PRODUCT_LENGTH</th>\n",
       "      <th>TEXT</th>\n",
       "    </tr>\n",
       "  </thead>\n",
       "  <tbody>\n",
       "    <tr>\n",
       "      <th>360021</th>\n",
       "      <td>725606</td>\n",
       "      <td>1</td>\n",
       "      <td>492.125000</td>\n",
       "      <td>Ben Suat Derviş</td>\n",
       "    </tr>\n",
       "    <tr>\n",
       "      <th>360030</th>\n",
       "      <td>212030</td>\n",
       "      <td>1</td>\n",
       "      <td>600.000000</td>\n",
       "      <td>Rose Journal</td>\n",
       "    </tr>\n",
       "    <tr>\n",
       "      <th>360061</th>\n",
       "      <td>579749</td>\n",
       "      <td>1</td>\n",
       "      <td>551.000000</td>\n",
       "      <td>Wildwood</td>\n",
       "    </tr>\n",
       "    <tr>\n",
       "      <th>360071</th>\n",
       "      <td>2201967</td>\n",
       "      <td>1</td>\n",
       "      <td>866.141731</td>\n",
       "      <td>THE PSYCHOLOGY OF MONEY: Timeless lessons on w...</td>\n",
       "    </tr>\n",
       "    <tr>\n",
       "      <th>360093</th>\n",
       "      <td>622626</td>\n",
       "      <td>1</td>\n",
       "      <td>429.133000</td>\n",
       "      <td>J'ai rencontre des gens formidables</td>\n",
       "    </tr>\n",
       "  </tbody>\n",
       "</table>\n",
       "</div>"
      ],
      "text/plain": [
       "        PRODUCT_ID  PRODUCT_TYPE_ID  PRODUCT_LENGTH  \\\n",
       "360021      725606                1      492.125000   \n",
       "360030      212030                1      600.000000   \n",
       "360061      579749                1      551.000000   \n",
       "360071     2201967                1      866.141731   \n",
       "360093      622626                1      429.133000   \n",
       "\n",
       "                                                     TEXT  \n",
       "360021                                Ben Suat Derviş      \n",
       "360030                                   Rose Journal      \n",
       "360061                                       Wildwood      \n",
       "360071  THE PSYCHOLOGY OF MONEY: Timeless lessons on w...  \n",
       "360093            J'ai rencontre des gens formidables      "
      ]
     },
     "execution_count": 13,
     "metadata": {},
     "output_type": "execute_result"
    }
   ],
   "source": [
    "test_a.head()"
   ]
  },
  {
   "cell_type": "markdown",
   "id": "a75da11b",
   "metadata": {},
   "source": [
    "In the next section, we imported `bert-base-uncased` which although more information intensive, is also bulkier and slower to process. Later on it became our reason, why we couldn't achieve a completely deployable model for the challenge. From our experience, DO NOT USE IT IN TIGHT SCHEDULES!. There are plenty alternatives, such as DistilBERT, ALBERT that provide competitive performance."
   ]
  },
  {
   "cell_type": "code",
   "execution_count": 8,
   "id": "ae704952",
   "metadata": {},
   "outputs": [
    {
     "name": "stderr",
     "output_type": "stream",
     "text": [
      "Some weights of the model checkpoint at bert-base-uncased were not used when initializing BertModel: ['cls.predictions.transform.LayerNorm.weight', 'cls.seq_relationship.bias', 'cls.predictions.transform.dense.weight', 'cls.predictions.transform.LayerNorm.bias', 'cls.predictions.decoder.weight', 'cls.seq_relationship.weight', 'cls.predictions.bias', 'cls.predictions.transform.dense.bias']\n",
      "- This IS expected if you are initializing BertModel from the checkpoint of a model trained on another task or with another architecture (e.g. initializing a BertForSequenceClassification model from a BertForPreTraining model).\n",
      "- This IS NOT expected if you are initializing BertModel from the checkpoint of a model that you expect to be exactly identical (initializing a BertForSequenceClassification model from a BertForSequenceClassification model).\n"
     ]
    }
   ],
   "source": [
    "from transformers import AutoTokenizer, AutoModel\n",
    "import torch\n",
    "\n",
    "\n",
    "tokenizer = AutoTokenizer.from_pretrained(\"bert-base-uncased\")\n",
    "model = AutoModel.from_pretrained(\"bert-base-uncased\")"
   ]
  },
  {
   "cell_type": "markdown",
   "id": "4924dfd6",
   "metadata": {},
   "source": [
    "The next function, for each row, extracts the text from the ‘TEXT’ column of that row using the .iloc method and stores it in a variable called output_text.\n",
    "The function then encodes this text using a tokenizer and a pre-trained model called model. The encoded input is then passed through the model to obtain an output tensor.\n",
    "A regression layer is then applied to this tensor using PyTorch’s torch.nn.Linear() function to obtain a single output value. This output value is then averaged across all rows of the DataFrame and appended to the relative_score list.\n",
    "Finally, the function returns this list of relative scores.\n",
    "This score becomes the core of our model."
   ]
  },
  {
   "cell_type": "code",
   "execution_count": 14,
   "id": "fb4b000a",
   "metadata": {},
   "outputs": [],
   "source": [
    "from tqdm import tqdm\n",
    "def extract_data(df):\n",
    "    relative_score = []\n",
    "   \n",
    "    for i in tqdm(range(len(df))):\n",
    "        output_text = (df.iloc[i]['TEXT'])\n",
    "            \n",
    "        encoded_input = tokenizer(output_text, return_tensors='pt',truncation = True)\n",
    "        output = model(**encoded_input)\n",
    "\n",
    "        regression_layer = torch.nn.Linear(768, 1)\n",
    "        output = regression_layer(output.last_hidden_state)\n",
    "        #print(type(output)) == torch.Tensor()\n",
    "        output = torch.mean(output).item()\n",
    "        relative_score.append(output)\n",
    "\n",
    "    return relative_score\n",
    "        "
   ]
  },
  {
   "cell_type": "code",
   "execution_count": 10,
   "id": "44df8a0f",
   "metadata": {},
   "outputs": [
    {
     "name": "stderr",
     "output_type": "stream",
     "text": [
      "100%|█████████████████████████████████████| 19169/19169 [08:30<00:00, 37.54it/s]\n"
     ]
    }
   ],
   "source": [
    "\n",
    "out = extract_data(train_a)\n",
    "#print(type(out), out)"
   ]
  },
  {
   "cell_type": "code",
   "execution_count": 15,
   "id": "5ab5ceb8",
   "metadata": {},
   "outputs": [
    {
     "name": "stderr",
     "output_type": "stream",
     "text": [
      "100%|███████████████████████████████████████| 4792/4792 [02:13<00:00, 35.93it/s]\n"
     ]
    }
   ],
   "source": [
    "test_a_out = extract_data(test_a)"
   ]
  },
  {
   "cell_type": "code",
   "execution_count": 17,
   "id": "92a96cac",
   "metadata": {},
   "outputs": [],
   "source": [
    "train_a['rel_score'] = out"
   ]
  },
  {
   "cell_type": "code",
   "execution_count": 7,
   "id": "f6f24b7d",
   "metadata": {},
   "outputs": [
    {
     "data": {
      "text/html": [
       "<div>\n",
       "<style scoped>\n",
       "    .dataframe tbody tr th:only-of-type {\n",
       "        vertical-align: middle;\n",
       "    }\n",
       "\n",
       "    .dataframe tbody tr th {\n",
       "        vertical-align: top;\n",
       "    }\n",
       "\n",
       "    .dataframe thead th {\n",
       "        text-align: right;\n",
       "    }\n",
       "</style>\n",
       "<table border=\"1\" class=\"dataframe\">\n",
       "  <thead>\n",
       "    <tr style=\"text-align: right;\">\n",
       "      <th></th>\n",
       "      <th>PRODUCT_ID</th>\n",
       "      <th>PRODUCT_TYPE_ID</th>\n",
       "      <th>PRODUCT_LENGTH</th>\n",
       "      <th>TEXT</th>\n",
       "      <th>rel_score</th>\n",
       "    </tr>\n",
       "  </thead>\n",
       "  <tbody>\n",
       "    <tr>\n",
       "      <th>11</th>\n",
       "      <td>833712</td>\n",
       "      <td>1</td>\n",
       "      <td>433.070</td>\n",
       "      <td>La Mure / Valbonnais gps</td>\n",
       "      <td>0.062352</td>\n",
       "    </tr>\n",
       "    <tr>\n",
       "      <th>12</th>\n",
       "      <td>648364</td>\n",
       "      <td>1</td>\n",
       "      <td>759.841</td>\n",
       "      <td>J'ecris des lettres! premiers exercices d'écri...</td>\n",
       "      <td>0.289387</td>\n",
       "    </tr>\n",
       "    <tr>\n",
       "      <th>22</th>\n",
       "      <td>655356</td>\n",
       "      <td>1</td>\n",
       "      <td>539.369</td>\n",
       "      <td>100 clés des villes sœurs. Eu - Le Tréport - M...</td>\n",
       "      <td>-0.213257</td>\n",
       "    </tr>\n",
       "    <tr>\n",
       "      <th>45</th>\n",
       "      <td>699328</td>\n",
       "      <td>1</td>\n",
       "      <td>909.447</td>\n",
       "      <td>Duden Kindergarten Lexikon</td>\n",
       "      <td>-0.117380</td>\n",
       "    </tr>\n",
       "    <tr>\n",
       "      <th>51</th>\n",
       "      <td>370796</td>\n",
       "      <td>1</td>\n",
       "      <td>1325.000</td>\n",
       "      <td>Four Seasons 2020 Calendar</td>\n",
       "      <td>-0.317353</td>\n",
       "    </tr>\n",
       "    <tr>\n",
       "      <th>58</th>\n",
       "      <td>518364</td>\n",
       "      <td>1</td>\n",
       "      <td>744.000</td>\n",
       "      <td>I Love Sloths More Than You: Blank Lined Journ...</td>\n",
       "      <td>0.188654</td>\n",
       "    </tr>\n",
       "    <tr>\n",
       "      <th>77</th>\n",
       "      <td>679453</td>\n",
       "      <td>1</td>\n",
       "      <td>696.849</td>\n",
       "      <td>Selbstorganisation, 2.A.</td>\n",
       "      <td>-0.016820</td>\n",
       "    </tr>\n",
       "    <tr>\n",
       "      <th>80</th>\n",
       "      <td>365587</td>\n",
       "      <td>1</td>\n",
       "      <td>425.000</td>\n",
       "      <td>Stella Rising (Orca Soundings)</td>\n",
       "      <td>0.031334</td>\n",
       "    </tr>\n",
       "    <tr>\n",
       "      <th>100</th>\n",
       "      <td>402457</td>\n",
       "      <td>1</td>\n",
       "      <td>500.000</td>\n",
       "      <td>Tales of Cydonia: Volume Two: Cydonia Labyrint...</td>\n",
       "      <td>-0.099079</td>\n",
       "    </tr>\n",
       "    <tr>\n",
       "      <th>123</th>\n",
       "      <td>1005026</td>\n",
       "      <td>1</td>\n",
       "      <td>750.000</td>\n",
       "      <td>Dryden; stanzas on the death of Oliver Cromwel...</td>\n",
       "      <td>0.048394</td>\n",
       "    </tr>\n",
       "  </tbody>\n",
       "</table>\n",
       "</div>"
      ],
      "text/plain": [
       "     PRODUCT_ID  PRODUCT_TYPE_ID  PRODUCT_LENGTH  \\\n",
       "11       833712                1         433.070   \n",
       "12       648364                1         759.841   \n",
       "22       655356                1         539.369   \n",
       "45       699328                1         909.447   \n",
       "51       370796                1        1325.000   \n",
       "58       518364                1         744.000   \n",
       "77       679453                1         696.849   \n",
       "80       365587                1         425.000   \n",
       "100      402457                1         500.000   \n",
       "123     1005026                1         750.000   \n",
       "\n",
       "                                                  TEXT  rel_score  \n",
       "11                        La Mure / Valbonnais gps       0.062352  \n",
       "12   J'ecris des lettres! premiers exercices d'écri...   0.289387  \n",
       "22   100 clés des villes sœurs. Eu - Le Tréport - M...  -0.213257  \n",
       "45                      Duden Kindergarten Lexikon      -0.117380  \n",
       "51                      Four Seasons 2020 Calendar      -0.317353  \n",
       "58   I Love Sloths More Than You: Blank Lined Journ...   0.188654  \n",
       "77                        Selbstorganisation, 2.A.      -0.016820  \n",
       "80                  Stella Rising (Orca Soundings)       0.031334  \n",
       "100  Tales of Cydonia: Volume Two: Cydonia Labyrint...  -0.099079  \n",
       "123  Dryden; stanzas on the death of Oliver Cromwel...   0.048394  "
      ]
     },
     "execution_count": 7,
     "metadata": {},
     "output_type": "execute_result"
    }
   ],
   "source": [
    "train_a.head(10)"
   ]
  },
  {
   "cell_type": "code",
   "execution_count": 18,
   "id": "694a89be",
   "metadata": {},
   "outputs": [],
   "source": [
    "df3 = train_a[['PRODUCT_LENGTH','rel_score']].copy()"
   ]
  },
  {
   "cell_type": "code",
   "execution_count": 9,
   "id": "3acbbbd8",
   "metadata": {},
   "outputs": [
    {
     "data": {
      "text/html": [
       "<div>\n",
       "<style scoped>\n",
       "    .dataframe tbody tr th:only-of-type {\n",
       "        vertical-align: middle;\n",
       "    }\n",
       "\n",
       "    .dataframe tbody tr th {\n",
       "        vertical-align: top;\n",
       "    }\n",
       "\n",
       "    .dataframe thead th {\n",
       "        text-align: right;\n",
       "    }\n",
       "</style>\n",
       "<table border=\"1\" class=\"dataframe\">\n",
       "  <thead>\n",
       "    <tr style=\"text-align: right;\">\n",
       "      <th></th>\n",
       "      <th>PRODUCT_LENGTH</th>\n",
       "      <th>rel_score</th>\n",
       "    </tr>\n",
       "  </thead>\n",
       "  <tbody>\n",
       "    <tr>\n",
       "      <th>11</th>\n",
       "      <td>433.070</td>\n",
       "      <td>0.062352</td>\n",
       "    </tr>\n",
       "    <tr>\n",
       "      <th>12</th>\n",
       "      <td>759.841</td>\n",
       "      <td>0.289387</td>\n",
       "    </tr>\n",
       "    <tr>\n",
       "      <th>22</th>\n",
       "      <td>539.369</td>\n",
       "      <td>-0.213257</td>\n",
       "    </tr>\n",
       "    <tr>\n",
       "      <th>45</th>\n",
       "      <td>909.447</td>\n",
       "      <td>-0.117380</td>\n",
       "    </tr>\n",
       "    <tr>\n",
       "      <th>51</th>\n",
       "      <td>1325.000</td>\n",
       "      <td>-0.317353</td>\n",
       "    </tr>\n",
       "    <tr>\n",
       "      <th>58</th>\n",
       "      <td>744.000</td>\n",
       "      <td>0.188654</td>\n",
       "    </tr>\n",
       "    <tr>\n",
       "      <th>77</th>\n",
       "      <td>696.849</td>\n",
       "      <td>-0.016820</td>\n",
       "    </tr>\n",
       "    <tr>\n",
       "      <th>80</th>\n",
       "      <td>425.000</td>\n",
       "      <td>0.031334</td>\n",
       "    </tr>\n",
       "    <tr>\n",
       "      <th>100</th>\n",
       "      <td>500.000</td>\n",
       "      <td>-0.099079</td>\n",
       "    </tr>\n",
       "    <tr>\n",
       "      <th>123</th>\n",
       "      <td>750.000</td>\n",
       "      <td>0.048394</td>\n",
       "    </tr>\n",
       "  </tbody>\n",
       "</table>\n",
       "</div>"
      ],
      "text/plain": [
       "     PRODUCT_LENGTH  rel_score\n",
       "11          433.070   0.062352\n",
       "12          759.841   0.289387\n",
       "22          539.369  -0.213257\n",
       "45          909.447  -0.117380\n",
       "51         1325.000  -0.317353\n",
       "58          744.000   0.188654\n",
       "77          696.849  -0.016820\n",
       "80          425.000   0.031334\n",
       "100         500.000  -0.099079\n",
       "123         750.000   0.048394"
      ]
     },
     "execution_count": 9,
     "metadata": {},
     "output_type": "execute_result"
    }
   ],
   "source": [
    "df3.head(10)"
   ]
  },
  {
   "cell_type": "code",
   "execution_count": 19,
   "id": "edabd609",
   "metadata": {},
   "outputs": [],
   "source": [
    "import matplotlib.pyplot as plt"
   ]
  },
  {
   "cell_type": "markdown",
   "id": "5ebb4c4f",
   "metadata": {},
   "source": [
    "### In the next section, we plotted a scatter plot of `PRODUCT_LENGTH` and its`rel_score` generated using `BERT` Model. And as our assumption, a certain class was able to generate separate scatter plots, which would aid in prediction."
   ]
  },
  {
   "cell_type": "code",
   "execution_count": 20,
   "id": "c74ad695",
   "metadata": {},
   "outputs": [
    {
     "data": {
      "image/png": "[encoded data removed]",
      "text/plain": [
       "<Figure size 640x480 with 1 Axes>"
      ]
     },
     "metadata": {},
     "output_type": "display_data"
    }
   ],
   "source": [
    "plt.scatter(df3['PRODUCT_LENGTH'], df3['rel_score'])\n",
    "plt.xlabel('PRODUCT_LENGTH')\n",
    "plt.ylabel('rel_score')\n",
    "\n",
    "plt.title('Scatter Plot of lENGTH AND SCORE')\n",
    "plt.xlim(0,1500)\n",
    "#plt.ylim(-0.4,0.4)\n",
    "plt.show()\n",
    "\n",
    "\n"
   ]
  },
  {
   "cell_type": "markdown",
   "id": "859be09f",
   "metadata": {},
   "source": [
    "Here we applied Logistic Regression, to start our data analysis; as seen from the graph it wasn't nearly as fruitful to begin with."
   ]
  },
  {
   "cell_type": "code",
   "execution_count": 36,
   "id": "f8ab62ec",
   "metadata": {},
   "outputs": [
    {
     "data": {
      "text/plain": [
       "<AxesSubplot:xlabel='PRODUCT_LENGTH', ylabel='rel_score'>"
      ]
     },
     "execution_count": 36,
     "metadata": {},
     "output_type": "execute_result"
    },
    {
     "data": {
      "image/png": "[encoded data removed]",
      "text/plain": [
       "<Figure size 640x480 with 1 Axes>"
      ]
     },
     "metadata": {},
     "output_type": "display_data"
    }
   ],
   "source": [
    "\n",
    "#define the predictor variable and the response variable\n",
    "x = df3['PRODUCT_LENGTH']\n",
    "y = df3['rel_score']\n",
    "\n",
    "#plot logistic regression curve\n",
    "sns.regplot(x=x, y=y, data=df3, logistic=True, ci=None)"
   ]
  },
  {
   "cell_type": "markdown",
   "id": "5c34b54a",
   "metadata": {},
   "source": [
    "### Here we have skipped over certain parts\n",
    "\n",
    "In our data Anaysis, we tested algorithms, such as XGBoost, LGBMClassifier and DecisionTrees apart from GradientBoosting, albeit in separate notebooks not covered in this repository.\n",
    "\n",
    "In our experience, only XGBoost could match the performance by GradientBoosting, but was also slower to train. So naturally, we pivoted towards GradientBoosting."
   ]
  },
  {
   "cell_type": "code",
   "execution_count": 21,
   "id": "d8037a2c",
   "metadata": {},
   "outputs": [
    {
     "data": {
      "text/plain": [
       "GradientBoostingRegressor()"
      ]
     },
     "execution_count": 21,
     "metadata": {},
     "output_type": "execute_result"
    }
   ],
   "source": [
    "from sklearn.model_selection import train_test_split\n",
    "from sklearn.ensemble import GradientBoostingRegressor\n",
    "\n",
    "# Split the data into training, testing and validation sets\n",
    "train_df, test_df = train_test_split(df3, test_size=0.2)\n",
    "test_df, val_df = train_test_split(test_df, test_size=0.5)\n",
    "\n",
    "# Train the model\n",
    "X_train = train_df.iloc[:, 1:]\n",
    "y_train = train_df.iloc[:, 0]\n",
    "model1 = GradientBoostingRegressor()\n",
    "model1.fit(X_train, y_train)\n",
    "\n",
    "# X_train.head(10)\n",
    "# y_train.head(10)\n"
   ]
  },
  {
   "cell_type": "code",
   "execution_count": 22,
   "id": "90b60987",
   "metadata": {},
   "outputs": [],
   "source": [
    "# Test the model\n",
    "X_test = test_df.iloc[:, 1:]\n",
    "y_test = test_df.iloc[:, 0]\n",
    "y_pred_test = model1.predict(X_test)\n",
    "\n",
    "#X_test.head(10)"
   ]
  },
  {
   "cell_type": "code",
   "execution_count": 23,
   "id": "b6314ad4",
   "metadata": {},
   "outputs": [],
   "source": [
    "# Validate the model\n",
    "X_val = val_df.iloc[:, 1:]\n",
    "y_val = val_df.iloc[:, 0]\n",
    "y_pred_val = model1.predict(X_val)\n",
    "\n",
    "# print(\"Accuracy on test set: \", model.score(X_test, y_test))\n",
    "# print(\"Accuracy on validation set: \", model.score(X_val, y_val))"
   ]
  },
  {
   "cell_type": "markdown",
   "id": "2a9c417f",
   "metadata": {},
   "source": [
    "### BrainTeaser\n",
    "When we were using entire dataset, the value of `mape_test` was around 0.0164 and `mape_val` was around 0.009. This meant the error for our prediction was 1.64% and 0.9% respectively!! But after splitting the dataset early on, the score for `train_a`, which was now our entire dataset for training, value of `mape_test` and `mape_val` came around 0.68 and 0.67 respectively. Why so?"
   ]
  },
  {
   "cell_type": "code",
   "execution_count": 24,
   "id": "a697b67d",
   "metadata": {},
   "outputs": [
    {
     "name": "stdout",
     "output_type": "stream",
     "text": [
      "Mean Absolute Percentage Error on test set:  0.680788589730321\n",
      "Mean Absolute Percentage Error on validation set:  0.6699551047574018\n"
     ]
    }
   ],
   "source": [
    "from sklearn.metrics import mean_absolute_percentage_error\n",
    "\n",
    "# Calculate mean absolute percentage error on test set\n",
    "mape_test = mean_absolute_percentage_error(y_test, y_pred_test)\n",
    "print(\"Mean Absolute Percentage Error on test set: \", mape_test)\n",
    "\n",
    "# Calculate mean absolute percentage error on validation set\n",
    "mape_val = mean_absolute_percentage_error(y_val, y_pred_val)\n",
    "print(\"Mean Absolute Percentage Error on validation set: \", mape_val)"
   ]
  },
  {
   "cell_type": "code",
   "execution_count": 28,
   "id": "e8341e59",
   "metadata": {},
   "outputs": [],
   "source": [
    "test_a['rel_score'] = test_a_out\n",
    "test_a.head(10)\n",
    "df4 = test_a[['PRODUCT_LENGTH','rel_score']].copy()\n",
    "X_ = df4.iloc[:, 1:]\n",
    "y_ = df4.iloc[:, 0]"
   ]
  },
  {
   "cell_type": "code",
   "execution_count": 29,
   "id": "9f4bac1f",
   "metadata": {},
   "outputs": [
    {
     "data": {
      "text/html": [
       "<div>\n",
       "<style scoped>\n",
       "    .dataframe tbody tr th:only-of-type {\n",
       "        vertical-align: middle;\n",
       "    }\n",
       "\n",
       "    .dataframe tbody tr th {\n",
       "        vertical-align: top;\n",
       "    }\n",
       "\n",
       "    .dataframe thead th {\n",
       "        text-align: right;\n",
       "    }\n",
       "</style>\n",
       "<table border=\"1\" class=\"dataframe\">\n",
       "  <thead>\n",
       "    <tr style=\"text-align: right;\">\n",
       "      <th></th>\n",
       "      <th>rel_score</th>\n",
       "    </tr>\n",
       "  </thead>\n",
       "  <tbody>\n",
       "    <tr>\n",
       "      <th>360021</th>\n",
       "      <td>-0.012040</td>\n",
       "    </tr>\n",
       "    <tr>\n",
       "      <th>360030</th>\n",
       "      <td>0.195990</td>\n",
       "    </tr>\n",
       "    <tr>\n",
       "      <th>360061</th>\n",
       "      <td>-0.185342</td>\n",
       "    </tr>\n",
       "    <tr>\n",
       "      <th>360071</th>\n",
       "      <td>0.213307</td>\n",
       "    </tr>\n",
       "    <tr>\n",
       "      <th>360093</th>\n",
       "      <td>0.170239</td>\n",
       "    </tr>\n",
       "  </tbody>\n",
       "</table>\n",
       "</div>"
      ],
      "text/plain": [
       "        rel_score\n",
       "360021  -0.012040\n",
       "360030   0.195990\n",
       "360061  -0.185342\n",
       "360071   0.213307\n",
       "360093   0.170239"
      ]
     },
     "execution_count": 29,
     "metadata": {},
     "output_type": "execute_result"
    }
   ],
   "source": [
    "X_.head()"
   ]
  },
  {
   "cell_type": "code",
   "execution_count": 30,
   "id": "c145f494",
   "metadata": {},
   "outputs": [],
   "source": [
    "test_a_pred = model1.predict(X_)\n",
    "\n"
   ]
  },
  {
   "cell_type": "code",
   "execution_count": 31,
   "id": "c07d2f30",
   "metadata": {},
   "outputs": [
    {
     "name": "stdout",
     "output_type": "stream",
     "text": [
      "Mean Absolute Percentage Error on test set:  0.5324859820179082\n"
     ]
    }
   ],
   "source": [
    "# Calculate mean absolute percentage error on test set\n",
    "mape_test = mean_absolute_percentage_error(y_, test_a_pred)\n",
    "print(\"Mean Absolute Percentage Error on test set: \", mape_test)"
   ]
  },
  {
   "cell_type": "code",
   "execution_count": 3,
   "id": "0ff897a8",
   "metadata": {},
   "outputs": [
    {
     "name": "stdout",
     "output_type": "stream",
     "text": [
      "46.75140179820918\n"
     ]
    }
   ],
   "source": [
    "print(\"Success Score:\"100*(1-mape_test))"
   ]
  },
  {
   "cell_type": "markdown",
   "id": "33b6adb2",
   "metadata": {},
   "source": [
    "After this, we proceeded to make this model for every `PRODUCT_ID`. THe entire dataset contained around 12,000 `PRODUCT_ID`s. As we got to learn later, this approach, although yielding promising results, was painstakingly slow, prompting us to shift things up to speed up our model, such as using TinyBERT as mentioned above.  "
   ]
  },
  {
   "cell_type": "markdown",
   "id": "9a32b4cf",
   "metadata": {},
   "source": [
    "If you've come this far,thanks again for reading. Do leave your suggestions about what we could've done better.\n",
    "Have a good day!"
   ]
  }
 ],
 "metadata": {
  "kernelspec": {
   "display_name": "gputest",
   "language": "python",
   "name": "gputest"
  },
  "language_info": {
   "codemirror_mode": {
    "name": "ipython",
    "version": 3
   },
   "file_extension": ".py",
   "mimetype": "text/x-python",
   "name": "python",
   "nbconvert_exporter": "python",
   "pygments_lexer": "ipython3",
   "version": "3.9.12"
  }
 },
 "nbformat": 4,
 "nbformat_minor": 5
}
